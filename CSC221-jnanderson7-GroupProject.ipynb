{
 "cells": [
  {
   "cell_type": "code",
   "execution_count": 77,
   "metadata": {},
   "outputs": [],
   "source": [
    "import pandas as pd\n",
    "import ssl\n",
    "ssl._create_default_https_context = ssl._create_unverified_context\n",
    "import urllib.request\n",
    "from bs4 import BeautifulSoup\n",
    "import bs4\n",
    "import lxml\n",
    "url = \"https://en.wikipedia.org/wiki/List_of_Metroid_media\"\n",
    "page = urllib.request.urlopen(url)\n",
    "soup = BeautifulSoup(page, 'lxml')"
   ]
  },
  {
   "cell_type": "code",
   "execution_count": 78,
   "metadata": {},
   "outputs": [
    {
     "name": "stdout",
     "output_type": "stream",
     "text": [
      "<title>List of Metroid media - Wikipedia</title>\n",
      "['Metroid series', 'Metroid Prime series']\n"
     ]
    }
   ],
   "source": [
    "print(soup.title)\n",
    "soup.title.string\n",
    "i = soup.findAll('i')\n",
    "gameSeires = []\n",
    "gameSeires.append(i[0].text + i[0].nextSibling.text)\n",
    "gameSeires.append(i[1].text + i[1].nextSibling.text)\n",
    "print(gameSeires)"
   ]
  },
  {
   "cell_type": "code",
   "execution_count": 79,
   "metadata": {},
   "outputs": [],
   "source": [
    "for junk in soup.findAll('sup'):\n",
    "    junk.extract()"
   ]
  },
  {
   "cell_type": "code",
   "execution_count": 80,
   "metadata": {},
   "outputs": [],
   "source": [
    "#I REALLY wanna merge them and make my code smaller, more compact, and cooler but this is more readable :( \n",
    "counter = 0\n",
    "i = soup.findAll('i')\n",
    "for table in soup.find_all(\"table\", class_='wikitable plainrowheaders video-game-titles'):\n",
    "    gameName = []\n",
    "    for row in table.findAll('tr',class_=\"hproduct\"):\n",
    "        for name in row.findAll('th'):\n",
    "            gameName.append(name.find(string=True))\n",
    "\n",
    "    releaseDatesregions = []\n",
    "    for row in table.findAll('tr',class_=\"hproduct\"):#this is reduculus, 4 nested loops. There has to be a better way.\n",
    "        for name in row.findAll(class_='plainlist'):\n",
    "            dates = {}\n",
    "            for li in name.findAll('ul'):\n",
    "                for item in li.findAll('li'):\n",
    "                    for junk in item.findAll('a'):\n",
    "                        region = junk.text\n",
    "                        junk.extract()\n",
    "                    for junk in item.findAll('abbr'):\n",
    "                        region = junk.text\n",
    "                        junk.extract()\n",
    "                    for junk in item.findAll('span'):\n",
    "                        junk.extract()\n",
    "                    dates[region] = item.text.strip()\n",
    "                releaseDatesregions.append(dates)\n",
    "\n",
    "    notes = []\n",
    "    for row in table.findAll('tr'):\n",
    "        if 'class' not in row.attrs:\n",
    "            for b in row.findAll('b'):\n",
    "                b = b.text #using b as dictionary key cuz it funny\n",
    "            noteList = []\n",
    "            for li in row.findAll('li'):\n",
    "                noteList.append(li.text)\n",
    "            if noteList != [] or len(notes) == 8:#I gave up\n",
    "                notes.append(noteList)\n",
    "\n",
    "    releaseDatesSystem = []\n",
    "    for row in table.findAll('tr',class_='hproduct'):\n",
    "        gameSystemRelease = {}\n",
    "        for td in row.findAll('td'):\n",
    "            for b in td.findAll('b'):\n",
    "                B = b\n",
    "                b.extract()\n",
    "            tempSoup = BeautifulSoup(str(td).replace('<br/>','\\n'), 'lxml')#why did I pick this website\n",
    "            systems = tempSoup.text.strip().split('\\n')\n",
    "            for i in systems:\n",
    "                if i != ':' and i != '':        \n",
    "                    temp = i.split(' – ')#why does the html use a different unicode character then (-). uggggggggghh\n",
    "                    if len(temp) == 1:#this took me 2 hours to figure out just because a single var is just left BLANK WHY?!?!?!?!?!??! Im about to commit a war crime\n",
    "                        temp = i.split('–')#why did the person who made this html use a different unicode character then (-). uggggggggghh\n",
    "                        gameSystemRelease['TBD'] = temp[1].strip()\n",
    "                    else:\n",
    "                        gameSystemRelease[temp[0].strip()] = temp[1].strip()\n",
    "            releaseDatesSystem.append(gameSystemRelease)\n",
    "    fileName = f'{gameSeires[counter]}.cvs'\n",
    "    games = pd.DataFrame(data={'game title' : gameName, 'region release dates': releaseDatesregions, str(B.text): releaseDatesSystem, 'notes': notes})\n",
    "    games.to_csv(fileName, sep='|')\n",
    "    counter += 1"
   ]
  },
  {
   "attachments": {},
   "cell_type": "markdown",
   "metadata": {},
   "source": [
    "Add code below for graphs"
   ]
  },
  {
   "cell_type": "code",
   "execution_count": null,
   "metadata": {},
   "outputs": [],
   "source": []
  }
 ],
 "metadata": {
  "kernelspec": {
   "display_name": "Python 3",
   "language": "python",
   "name": "python3"
  },
  "language_info": {
   "codemirror_mode": {
    "name": "ipython",
    "version": 3
   },
   "file_extension": ".py",
   "mimetype": "text/x-python",
   "name": "python",
   "nbconvert_exporter": "python",
   "pygments_lexer": "ipython3",
   "version": "3.10.4"
  },
  "orig_nbformat": 4
 },
 "nbformat": 4,
 "nbformat_minor": 2
}
